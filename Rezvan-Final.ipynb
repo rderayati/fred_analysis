{
 "cells": [
  {
   "cell_type": "markdown",
   "metadata": {},
   "source": [
    "The final assignment of time series\n"
   ]
  },
  {
   "cell_type": "markdown",
   "metadata": {},
   "source": [
    "Rezvan Derayati\n"
   ]
  },
  {
   "cell_type": "markdown",
   "metadata": {},
   "source": [
    "June 2020"
   ]
  },
  {
   "cell_type": "markdown",
   "metadata": {},
   "source": [
    "Consider that the csv file that I am working on(\"current.csv\") should be in the same folder that you run my jupyter file, since I have used the relative path when importing data. The csv file is in the rar file that I've sent to you.   "
   ]
  },
  {
   "cell_type": "code",
   "execution_count": 95,
   "metadata": {},
   "outputs": [],
   "source": [
    "using CSV\n",
    "using DataFrames\n",
    "using Dates\n",
    "using Statistics\n",
    "using LinearAlgebra\n",
    "using StatsBase\n",
    "using Plots\n",
    "using GLM\n",
    "using PrettyTables\n",
    "fredmd = CSV.File(\"current.csv\", \n",
    "    datarow=3, \n",
    "    footerskip = 1, \n",
    "    dateformat = \"mm/dd/yyyy\",\n",
    "    typemap = Dict(Int64=>Float64), \n",
    "    );\n"
   ]
  },
  {
   "cell_type": "code",
   "execution_count": 96,
   "metadata": {},
   "outputs": [],
   "source": [
    "tcode = CSV.File(\"current.csv\", datarow=2, limit = 1)[1];\n",
    "\n",
    "fredmd = DataFrame(fredmd, copycols=true);"
   ]
  },
  {
   "cell_type": "code",
   "execution_count": 97,
   "metadata": {},
   "outputs": [],
   "source": [
    "fredmd = fredmd[(fredmd[!, 1] .>= Date(1960, 1, 1)),:];"
   ]
  },
  {
   "cell_type": "markdown",
   "metadata": {},
   "source": [
    "In this step, we creat a tuple of function for applying the transformation."
   ]
  },
  {
   "cell_type": "code",
   "execution_count": 98,
   "metadata": {},
   "outputs": [
    {
     "data": {
      "text/plain": [
       "(identity, diff, diff2, logd, logdiff, logdiff2, diffp)"
      ]
     },
     "execution_count": 98,
     "metadata": {},
     "output_type": "execute_result"
    }
   ],
   "source": [
    "lag(x) = [missing; x[1:end-1]]\n",
    "diff(x) = x .- lag(x)\n",
    "diff2(x) = diff(diff(x))\n",
    "logdiff(x) = log.(x) - log.(lag(x))\n",
    "logdiff2(x) = diff(logdiff(x))\n",
    "diffp(x) = diff(x./lag(x) .- 1.0)\n",
    "logd(x) = log.(x)\n",
    "\n",
    "## Create a tuple of functions\n",
    "tfuns = (identity, diff, diff2, logd, logdiff, logdiff2, diffp)\n"
   ]
  },
  {
   "cell_type": "markdown",
   "metadata": {},
   "source": [
    "This function transforms a single series (in a column vector) as specified by a given transfromation code i.e \"tcode\" that is reported in the original dataframe."
   ]
  },
  {
   "cell_type": "code",
   "execution_count": 99,
   "metadata": {
    "scrolled": true
   },
   "outputs": [
    {
     "name": "stdout",
     "output_type": "stream",
     "text": [
      "(j, trcode) = (2, 5)\n",
      "(j, trcode) = (3, 5)\n",
      "(j, trcode) = (4, 5)\n",
      "(j, trcode) = (5, 5)\n",
      "(j, trcode) = (6, 5)\n",
      "(j, trcode) = (7, 5)\n",
      "(j, trcode) = (8, 5)\n",
      "(j, trcode) = (9, 5)\n",
      "(j, trcode) = (10, 5)\n",
      "(j, trcode) = (11, 5)\n",
      "(j, trcode) = (12, 5)\n",
      "(j, trcode) = (13, 5)\n",
      "(j, trcode) = (14, 5)\n",
      "(j, trcode) = (15, 5)\n",
      "(j, trcode) = (16, 5)\n",
      "(j, trcode) = (17, 5)\n",
      "(j, trcode) = (18, 5)\n",
      "(j, trcode) = (19, 5)\n",
      "(j, trcode) = (20, 2)\n",
      "(j, trcode) = (21, 2)\n",
      "(j, trcode) = (22, 2)\n",
      "(j, trcode) = (23, 5)\n",
      "(j, trcode) = (24, 5)\n",
      "(j, trcode) = (25, 2)\n",
      "(j, trcode) = (26, 2)\n",
      "(j, trcode) = (27, 5)\n",
      "(j, trcode) = (28, 5)\n",
      "(j, trcode) = (29, 5)\n",
      "(j, trcode) = (30, 5)\n",
      "(j, trcode) = (31, 5)\n",
      "(j, trcode) = (32, 5)\n",
      "(j, trcode) = (33, 5)\n",
      "(j, trcode) = (34, 5)\n",
      "(j, trcode) = (35, 5)\n",
      "(j, trcode) = (36, 5)\n",
      "(j, trcode) = (37, 5)\n",
      "(j, trcode) = (38, 5)\n",
      "(j, trcode) = (39, 5)\n",
      "(j, trcode) = (40, 5)\n",
      "(j, trcode) = (41, 5)\n",
      "(j, trcode) = (42, 5)\n",
      "(j, trcode) = (43, 5)\n",
      "(j, trcode) = (44, 5)\n",
      "(j, trcode) = (45, 5)\n",
      "(j, trcode) = (46, 1)\n",
      "(j, trcode) = (47, 2)\n",
      "(j, trcode) = (48, 1)\n",
      "(j, trcode) = (49, 4)\n",
      "(j, trcode) = (50, 4)\n",
      "(j, trcode) = (51, 4)\n",
      "(j, trcode) = (52, 4)\n",
      "(j, trcode) = (53, 4)\n",
      "(j, trcode) = (54, 4)\n",
      "(j, trcode) = (55, 4)\n",
      "(j, trcode) = (56, 4)\n",
      "(j, trcode) = (57, 4)\n",
      "(j, trcode) = (58, 4)\n",
      "(j, trcode) = (59, 5)\n",
      "(j, trcode) = (60, 5)\n",
      "(j, trcode) = (61, 5)\n",
      "(j, trcode) = (62, 5)\n",
      "(j, trcode) = (63, 5)\n",
      "(j, trcode) = (64, 2)\n",
      "(j, trcode) = (65, 6)\n",
      "(j, trcode) = (66, 6)\n",
      "(j, trcode) = (67, 5)\n",
      "(j, trcode) = (68, 6)\n",
      "(j, trcode) = (69, 6)\n",
      "(j, trcode) = (70, 7)\n",
      "(j, trcode) = (71, 6)\n",
      "(j, trcode) = (72, 6)\n",
      "(j, trcode) = (73, 6)\n",
      "(j, trcode) = (74, 2)\n",
      "(j, trcode) = (75, 5)\n",
      "(j, trcode) = (76, 5)\n",
      "(j, trcode) = (77, 2)\n",
      "(j, trcode) = (78, 5)\n",
      "(j, trcode) = (79, 2)\n",
      "(j, trcode) = (80, 2)\n",
      "(j, trcode) = (81, 2)\n",
      "(j, trcode) = (82, 2)\n",
      "(j, trcode) = (83, 2)\n",
      "(j, trcode) = (84, 2)\n",
      "(j, trcode) = (85, 2)\n",
      "(j, trcode) = (86, 2)\n",
      "(j, trcode) = (87, 2)\n",
      "(j, trcode) = (88, 1)\n",
      "(j, trcode) = (89, 1)\n",
      "(j, trcode) = (90, 1)\n",
      "(j, trcode) = (91, 1)\n",
      "(j, trcode) = (92, 1)\n",
      "(j, trcode) = (93, 1)\n",
      "(j, trcode) = (94, 1)\n",
      "(j, trcode) = (95, 1)\n",
      "(j, trcode) = (96, 5)\n",
      "(j, trcode) = (97, 5)\n",
      "(j, trcode) = (98, 5)\n",
      "(j, trcode) = (99, 5)\n",
      "(j, trcode) = (100, 5)\n",
      "(j, trcode) = (101, 6)\n",
      "(j, trcode) = (102, 6)\n",
      "(j, trcode) = (103, 6)\n",
      "(j, trcode) = (104, 6)\n",
      "(j, trcode) = (105, 6)\n",
      "(j, trcode) = (106, 6)\n",
      "(j, trcode) = (107, 6)\n",
      "(j, trcode) = (108, 6)\n",
      "(j, trcode) = (109, 6)\n",
      "(j, trcode) = (110, 6)\n",
      "(j, trcode) = (111, 6)\n",
      "(j, trcode) = (112, 6)\n",
      "(j, trcode) = (113, 6)\n",
      "(j, trcode) = (114, 6)\n",
      "(j, trcode) = (115, 6)\n",
      "(j, trcode) = (116, 6)\n",
      "(j, trcode) = (117, 6)\n",
      "(j, trcode) = (118, 6)\n",
      "(j, trcode) = (119, 6)\n",
      "(j, trcode) = (120, 6)\n",
      "(j, trcode) = (121, 6)\n",
      "(j, trcode) = (122, 6)\n",
      "(j, trcode) = (123, 6)\n",
      "(j, trcode) = (124, 2)\n",
      "(j, trcode) = (125, 6)\n",
      "(j, trcode) = (126, 6)\n",
      "(j, trcode) = (127, 6)\n",
      "(j, trcode) = (128, 6)\n",
      "(j, trcode) = (129, 1)\n"
     ]
    },
    {
     "data": {
      "text/html": [
       "<table class=\"data-frame\"><thead><tr><th></th><th>sasdate</th><th>RPI</th><th>W875RX1</th><th>DPCERA3M086SBEA</th><th>CMRMTSPLx</th><th>RETAILx</th></tr><tr><th></th><th>Date</th><th>Float64?</th><th>Float64?</th><th>Float64?</th><th>Float64?</th><th>Float64?</th></tr></thead><tbody><p>721 rows × 129 columns (omitted printing of 123 columns)</p><tr><th>1</th><td>1960-03-01</td><td>0.00190976</td><td>0.000917699</td><td>0.0140716</td><td>-0.0280208</td><td>-0.00110199</td></tr><tr><th>2</th><td>1960-04-01</td><td>0.00342582</td><td>0.00362086</td><td>0.0153824</td><td>0.00983569</td><td>0.0259034</td></tr><tr><th>3</th><td>1960-05-01</td><td>0.00240288</td><td>0.00244808</td><td>-0.0204166</td><td>-0.0315883</td><td>-0.0150468</td></tr><tr><th>4</th><td>1960-06-01</td><td>0.000789293</td><td>-0.000248684</td><td>-0.000219455</td><td>0.00860584</td><td>-0.00136429</td></tr><tr><th>5</th><td>1960-07-01</td><td>0.00183214</td><td>0.001905</td><td>0.00202812</td><td>-0.00686518</td><td>-0.0100989</td></tr><tr><th>6</th><td>1960-08-01</td><td>-0.00162382</td><td>-0.00256846</td><td>-0.000931328</td><td>-0.00126318</td><td>0.00341429</td></tr><tr><th>7</th><td>1960-09-01</td><td>0.0012743</td><td>0.000290318</td><td>0.0047571</td><td>0.0160912</td><td>-0.000935016</td></tr><tr><th>8</th><td>1960-10-01</td><td>0.00295363</td><td>0.00314661</td><td>0.00484315</td><td>-0.0190278</td><td>0.00876574</td></tr><tr><th>9</th><td>1960-11-01</td><td>-0.00429412</td><td>-0.00576251</td><td>-0.00348035</td><td>-0.00982999</td><td>-0.0143943</td></tr><tr><th>10</th><td>1960-12-01</td><td>-0.00456999</td><td>-0.00587955</td><td>-0.0123326</td><td>0.00782686</td><td>-0.00733133</td></tr><tr><th>11</th><td>1961-01-01</td><td>0.00892226</td><td>0.00870277</td><td>0.00242371</td><td>-0.0361353</td><td>0.000780118</td></tr><tr><th>12</th><td>1961-02-01</td><td>0.00381873</td><td>8.29153e-5</td><td>0.0036794</td><td>0.0121675</td><td>-0.00357123</td></tr><tr><th>13</th><td>1961-03-01</td><td>0.0041231</td><td>0.00492113</td><td>0.0123663</td><td>0.0235944</td><td>0.0105097</td></tr><tr><th>14</th><td>1961-04-01</td><td>0.0021688</td><td>0.0034181</td><td>0.000487158</td><td>-0.0290989</td><td>-0.0178596</td></tr><tr><th>15</th><td>1961-05-01</td><td>0.00774878</td><td>0.00594349</td><td>0.00604264</td><td>0.0283724</td><td>0.0149236</td></tr><tr><th>16</th><td>1961-06-01</td><td>0.00937247</td><td>0.00801877</td><td>0.0024176</td><td>0.017936</td><td>0.00740662</td></tr><tr><th>17</th><td>1961-07-01</td><td>0.00284996</td><td>0.0023891</td><td>-0.00300946</td><td>-0.0200615</td><td>-0.000771265</td></tr><tr><th>18</th><td>1961-08-01</td><td>0.000552476</td><td>0.00423772</td><td>0.00359954</td><td>0.0353218</td><td>0.010962</td></tr><tr><th>19</th><td>1961-09-01</td><td>0.00122647</td><td>0.00197147</td><td>0.00556181</td><td>0.0059034</td><td>0.00174282</td></tr><tr><th>20</th><td>1961-10-01</td><td>0.0098022</td><td>0.010635</td><td>0.00627328</td><td>-0.00171649</td><td>0.0178514</td></tr><tr><th>21</th><td>1961-11-01</td><td>0.00890832</td><td>0.00914478</td><td>0.00959923</td><td>0.0158571</td><td>0.00703103</td></tr><tr><th>22</th><td>1961-12-01</td><td>0.00600281</td><td>0.00546267</td><td>0.00690488</td><td>0.00080465</td><td>0.000371481</td></tr><tr><th>23</th><td>1962-01-01</td><td>-0.000951885</td><td>-0.00137268</td><td>0.000312728</td><td>0.00774687</td><td>0.0085588</td></tr><tr><th>24</th><td>1962-02-01</td><td>0.00414144</td><td>0.0048157</td><td>-0.000469129</td><td>-0.00435781</td><td>0.000105208</td></tr><tr><th>25</th><td>1962-03-01</td><td>0.00687079</td><td>0.0066179</td><td>0.00825571</td><td>0.0111505</td><td>0.0166923</td></tr><tr><th>26</th><td>1962-04-01</td><td>0.0051121</td><td>0.00626598</td><td>0.00345851</td><td>-0.00733532</td><td>0.00541699</td></tr><tr><th>27</th><td>1962-05-01</td><td>0.00145566</td><td>0.00138712</td><td>0.00764871</td><td>0.00954604</td><td>0.00676856</td></tr><tr><th>28</th><td>1962-06-01</td><td>0.00135603</td><td>0.00126984</td><td>-0.00502411</td><td>-0.00788595</td><td>-0.01291</td></tr><tr><th>29</th><td>1962-07-01</td><td>0.00485917</td><td>0.00471889</td><td>0.00328391</td><td>-0.00545413</td><td>0.0157168</td></tr><tr><th>30</th><td>1962-08-01</td><td>0.00157183</td><td>0.00114758</td><td>0.00271135</td><td>0.0230347</td><td>0.00619795</td></tr><tr><th>&vellip;</th><td>&vellip;</td><td>&vellip;</td><td>&vellip;</td><td>&vellip;</td><td>&vellip;</td><td>&vellip;</td></tr></tbody></table>"
      ],
      "text/latex": [
       "\\begin{tabular}{r|ccccccc}\n",
       "\t& sasdate & RPI & W875RX1 & DPCERA3M086SBEA & CMRMTSPLx & RETAILx & \\\\\n",
       "\t\\hline\n",
       "\t& Date & Float64? & Float64? & Float64? & Float64? & Float64? & \\\\\n",
       "\t\\hline\n",
       "\t1 & 1960-03-01 & 0.00190976 & 0.000917699 & 0.0140716 & -0.0280208 & -0.00110199 & $\\dots$ \\\\\n",
       "\t2 & 1960-04-01 & 0.00342582 & 0.00362086 & 0.0153824 & 0.00983569 & 0.0259034 & $\\dots$ \\\\\n",
       "\t3 & 1960-05-01 & 0.00240288 & 0.00244808 & -0.0204166 & -0.0315883 & -0.0150468 & $\\dots$ \\\\\n",
       "\t4 & 1960-06-01 & 0.000789293 & -0.000248684 & -0.000219455 & 0.00860584 & -0.00136429 & $\\dots$ \\\\\n",
       "\t5 & 1960-07-01 & 0.00183214 & 0.001905 & 0.00202812 & -0.00686518 & -0.0100989 & $\\dots$ \\\\\n",
       "\t6 & 1960-08-01 & -0.00162382 & -0.00256846 & -0.000931328 & -0.00126318 & 0.00341429 & $\\dots$ \\\\\n",
       "\t7 & 1960-09-01 & 0.0012743 & 0.000290318 & 0.0047571 & 0.0160912 & -0.000935016 & $\\dots$ \\\\\n",
       "\t8 & 1960-10-01 & 0.00295363 & 0.00314661 & 0.00484315 & -0.0190278 & 0.00876574 & $\\dots$ \\\\\n",
       "\t9 & 1960-11-01 & -0.00429412 & -0.00576251 & -0.00348035 & -0.00982999 & -0.0143943 & $\\dots$ \\\\\n",
       "\t10 & 1960-12-01 & -0.00456999 & -0.00587955 & -0.0123326 & 0.00782686 & -0.00733133 & $\\dots$ \\\\\n",
       "\t11 & 1961-01-01 & 0.00892226 & 0.00870277 & 0.00242371 & -0.0361353 & 0.000780118 & $\\dots$ \\\\\n",
       "\t12 & 1961-02-01 & 0.00381873 & 8.29153e-5 & 0.0036794 & 0.0121675 & -0.00357123 & $\\dots$ \\\\\n",
       "\t13 & 1961-03-01 & 0.0041231 & 0.00492113 & 0.0123663 & 0.0235944 & 0.0105097 & $\\dots$ \\\\\n",
       "\t14 & 1961-04-01 & 0.0021688 & 0.0034181 & 0.000487158 & -0.0290989 & -0.0178596 & $\\dots$ \\\\\n",
       "\t15 & 1961-05-01 & 0.00774878 & 0.00594349 & 0.00604264 & 0.0283724 & 0.0149236 & $\\dots$ \\\\\n",
       "\t16 & 1961-06-01 & 0.00937247 & 0.00801877 & 0.0024176 & 0.017936 & 0.00740662 & $\\dots$ \\\\\n",
       "\t17 & 1961-07-01 & 0.00284996 & 0.0023891 & -0.00300946 & -0.0200615 & -0.000771265 & $\\dots$ \\\\\n",
       "\t18 & 1961-08-01 & 0.000552476 & 0.00423772 & 0.00359954 & 0.0353218 & 0.010962 & $\\dots$ \\\\\n",
       "\t19 & 1961-09-01 & 0.00122647 & 0.00197147 & 0.00556181 & 0.0059034 & 0.00174282 & $\\dots$ \\\\\n",
       "\t20 & 1961-10-01 & 0.0098022 & 0.010635 & 0.00627328 & -0.00171649 & 0.0178514 & $\\dots$ \\\\\n",
       "\t21 & 1961-11-01 & 0.00890832 & 0.00914478 & 0.00959923 & 0.0158571 & 0.00703103 & $\\dots$ \\\\\n",
       "\t22 & 1961-12-01 & 0.00600281 & 0.00546267 & 0.00690488 & 0.00080465 & 0.000371481 & $\\dots$ \\\\\n",
       "\t23 & 1962-01-01 & -0.000951885 & -0.00137268 & 0.000312728 & 0.00774687 & 0.0085588 & $\\dots$ \\\\\n",
       "\t24 & 1962-02-01 & 0.00414144 & 0.0048157 & -0.000469129 & -0.00435781 & 0.000105208 & $\\dots$ \\\\\n",
       "\t25 & 1962-03-01 & 0.00687079 & 0.0066179 & 0.00825571 & 0.0111505 & 0.0166923 & $\\dots$ \\\\\n",
       "\t26 & 1962-04-01 & 0.0051121 & 0.00626598 & 0.00345851 & -0.00733532 & 0.00541699 & $\\dots$ \\\\\n",
       "\t27 & 1962-05-01 & 0.00145566 & 0.00138712 & 0.00764871 & 0.00954604 & 0.00676856 & $\\dots$ \\\\\n",
       "\t28 & 1962-06-01 & 0.00135603 & 0.00126984 & -0.00502411 & -0.00788595 & -0.01291 & $\\dots$ \\\\\n",
       "\t29 & 1962-07-01 & 0.00485917 & 0.00471889 & 0.00328391 & -0.00545413 & 0.0157168 & $\\dots$ \\\\\n",
       "\t30 & 1962-08-01 & 0.00157183 & 0.00114758 & 0.00271135 & 0.0230347 & 0.00619795 & $\\dots$ \\\\\n",
       "\t$\\dots$ & $\\dots$ & $\\dots$ & $\\dots$ & $\\dots$ & $\\dots$ & $\\dots$ &  \\\\\n",
       "\\end{tabular}\n"
      ],
      "text/plain": [
       "721×129 DataFrame. Omitted printing of 125 columns\n",
       "│ Row │ sasdate    │ RPI          │ W875RX1      │ DPCERA3M086SBEA │\n",
       "│     │ \u001b[90mDate\u001b[39m       │ \u001b[90mFloat64?\u001b[39m     │ \u001b[90mFloat64?\u001b[39m     │ \u001b[90mFloat64?\u001b[39m        │\n",
       "├─────┼────────────┼──────────────┼──────────────┼─────────────────┤\n",
       "│ 1   │ 1960-03-01 │ 0.00190976   │ 0.000917699  │ 0.0140716       │\n",
       "│ 2   │ 1960-04-01 │ 0.00342582   │ 0.00362086   │ 0.0153824       │\n",
       "│ 3   │ 1960-05-01 │ 0.00240288   │ 0.00244808   │ -0.0204166      │\n",
       "│ 4   │ 1960-06-01 │ 0.000789293  │ -0.000248684 │ -0.000219455    │\n",
       "│ 5   │ 1960-07-01 │ 0.00183214   │ 0.001905     │ 0.00202812      │\n",
       "│ 6   │ 1960-08-01 │ -0.00162382  │ -0.00256846  │ -0.000931328    │\n",
       "│ 7   │ 1960-09-01 │ 0.0012743    │ 0.000290318  │ 0.0047571       │\n",
       "│ 8   │ 1960-10-01 │ 0.00295363   │ 0.00314661   │ 0.00484315      │\n",
       "│ 9   │ 1960-11-01 │ -0.00429412  │ -0.00576251  │ -0.00348035     │\n",
       "│ 10  │ 1960-12-01 │ -0.00456999  │ -0.00587955  │ -0.0123326      │\n",
       "⋮\n",
       "│ 711 │ 2019-05-01 │ 0.00121781   │ 0.000733245  │ 0.00339353      │\n",
       "│ 712 │ 2019-06-01 │ 0.00241039   │ 0.00219651   │ 0.00207369      │\n",
       "│ 713 │ 2019-07-01 │ -0.00244109  │ -0.00323603  │ 0.00309424      │\n",
       "│ 714 │ 2019-08-01 │ 0.00374939   │ 0.00388198   │ 0.00233501      │\n",
       "│ 715 │ 2019-09-01 │ 0.00221334   │ 0.00201326   │ 0.00176209      │\n",
       "│ 716 │ 2019-10-01 │ -3.29885e-5  │ -0.00039666  │ 0.00067437      │\n",
       "│ 717 │ 2019-11-01 │ 0.00456512   │ 0.00544033   │ 0.00236492      │\n",
       "│ 718 │ 2019-12-01 │ -0.000497555 │ -7.04642e-5  │ 0.000991929     │\n",
       "│ 719 │ 2020-01-01 │ 0.00455507   │ 0.0027374    │ 0.00270027      │\n",
       "│ 720 │ 2020-02-01 │ 0.00468798   │ 0.0053406    │ 0.00135557      │\n",
       "│ 721 │ 2020-03-01 │ -0.0195894   │ -0.0287466   │ -0.0692779      │"
      ]
     },
     "execution_count": 99,
     "metadata": {},
     "output_type": "execute_result"
    }
   ],
   "source": [
    "## Apply the transformation\n",
    "for j in 2:size(fredmd, 2)\n",
    "    trcode = tcode[j]\n",
    "    @show j, trcode\n",
    "    fredmd[!, j] = tfuns[trcode](fredmd[!, j])\n",
    "    end;\n",
    "#rimuoviamo le prime due osservazioni perse a causa della doppia differenza\n",
    "fredmd=fredmd[3:end,:]"
   ]
  },
  {
   "cell_type": "markdown",
   "metadata": {},
   "source": [
    "Working with DataFrame maybe inconvenient."
   ]
  },
  {
   "cell_type": "code",
   "execution_count": 100,
   "metadata": {},
   "outputs": [],
   "source": [
    "using Tables\n",
    "## Z₀ are named tuples\n",
    "Z = Tables.columntable(fredmd[:, 2:end]);"
   ]
  },
  {
   "cell_type": "markdown",
   "metadata": {},
   "source": [
    "The EM algorithm is essentially the one given in the paper \"Macroeconomic Forecasting Using Diffusion Indexes\" by Stock & Watson [2002]. The algorithm is initialized by filling in missing values with the  unconditional mean of the series,which is zero since we standardaize dataframe; so that the panel is re-balanced. A T  ×  r matrix of factors F=(f 1 ,...,f 𝑡 )' and a N  ×  r matrix of loadigns  𝜆 =( 𝜆1 ,..., 𝜆𝑛 ) are estimated from this panel using the normalization that  𝜆 ' 𝜆 =I 𝑟 . The missing value for series i at time t is uptated from zero to  𝜆ℎ𝑎𝑡𝑖  𝑓ℎ𝑎𝑡𝑖 . This is multiplied by the standard deviation of the series and the mean is re-added. The resulting value considered as an observation for the series i at time t, and the mean and variance of the complete sample are calculated again. Demeaning & standardizing the updated dataset; estimating factors from this demeaned & standardized dataset & then using these factors to predict the dataset. The algorithm will  proceeds as follows: update missing values using values predicted by the latest set of factors; demean & standardize the updated dataset estimate a new set of factors using the demeaned & standardized updated dataset; & repeat the process until the factor estimates do not change."
   ]
  },
  {
   "cell_type": "markdown",
   "metadata": {},
   "source": [
    "The function recenter and rescale standardizes every series through substracting the mean and dividing by standard error."
   ]
  },
  {
   "cell_type": "code",
   "execution_count": 101,
   "metadata": {},
   "outputs": [
    {
     "data": {
      "text/plain": [
       "recenter_and_rescale (generic function with 1 method)"
      ]
     },
     "execution_count": 101,
     "metadata": {},
     "output_type": "execute_result"
    }
   ],
   "source": [
    "\n",
    "function recenter_and_rescale(Z)\n",
    "    statinfo = []\n",
    "    X = []\n",
    "    for i in eachindex(Z)\n",
    "        Zi = Z[i]\n",
    "        Zibar= mean(skipmissing(Zi))\n",
    "        sigmaihat = std(skipmissing(Zi))\n",
    "        info = (m = Zibar, s = sigmaihat)\n",
    "        push!(statinfo, info)    \n",
    "        push!(X, (Zi .- Zibar)./sigmaihat)\n",
    "    end\n",
    "    (X, statinfo)\n",
    "end"
   ]
  },
  {
   "cell_type": "markdown",
   "metadata": {},
   "source": [
    "In this step, I put a function for substituting missing values by zero."
   ]
  },
  {
   "cell_type": "code",
   "execution_count": 102,
   "metadata": {},
   "outputs": [
    {
     "data": {
      "text/plain": [
       "replace_missing (generic function with 2 methods)"
      ]
     },
     "execution_count": 102,
     "metadata": {},
     "output_type": "execute_result"
    }
   ],
   "source": [
    "function replace_missing(Z)\n",
    "    X = copy(Z)\n",
    "    for i in eachindex(Z)\n",
    "        X[i][ismissing.(X[i])] .= 0.0\n",
    "    end\n",
    "    hcat(map(disallowmissing, X)...)\n",
    "end"
   ]
  },
  {
   "cell_type": "markdown",
   "metadata": {},
   "source": [
    "This function replace missing data by prediction values."
   ]
  },
  {
   "cell_type": "code",
   "execution_count": 103,
   "metadata": {},
   "outputs": [
    {
     "data": {
      "text/plain": [
       "replace_missing (generic function with 2 methods)"
      ]
     },
     "execution_count": 103,
     "metadata": {},
     "output_type": "execute_result"
    }
   ],
   "source": [
    "function replace_missing(Z, fhat, lambdahat, statinfo)\n",
    "    Znew = deepcopy(Z)\n",
    "    for (j, i) in enumerate(keys(Z))\n",
    "        m, s = statinfo[j]\n",
    "        idx = ismissing.(Z[i])\n",
    "        Znew[i][idx] .= s.*fhat[idx,:]*lambdahat[j,:] .+ m\n",
    "    end\n",
    "    return Znew\n",
    "end"
   ]
  },
  {
   "cell_type": "code",
   "execution_count": 104,
   "metadata": {},
   "outputs": [
    {
     "data": {
      "text/plain": [
       "extract_and_fill (generic function with 1 method)"
      ]
     },
     "execution_count": 104,
     "metadata": {},
     "output_type": "execute_result"
    }
   ],
   "source": [
    "function extract_and_fill(Z, r)    \n",
    "    Xs, statinfo = recenter_and_rescale(Z);\n",
    "    X = replace_missing(Xs)\n",
    "    T, N = size(X)\n",
    "    converged = false\n",
    "    lambdahat = Array{Float64, 2}(undef, N, r)\n",
    "    fhat = Array{Float64, 2}(undef, T, r)\n",
    "    while !converged\n",
    "        eignvv =  eigen(X'X./T); \n",
    "        idx = sortperm(eignvv.values, rev=true) \n",
    "        lambdahat .= sqrt(N)*eignvv.vectors[:, idx][:, 1:r] #loadings \n",
    "        fhat .= X*lambdahat./size(X, 2); \n",
    "        Z = replace_missing(Z, fhat, lambdahat, statinfo) \n",
    "        Xold = copy(X)        \n",
    "        Xs, statinfo = recenter_and_rescale(Z);\n",
    "        X = hcat(Xs...)\n",
    "        converged = norm(Xold .- X, 2) < 1e-08 \n",
    "    end\n",
    "    return replace_missing(Z, fhat, lambdahat, statinfo), X, fhat, lambdahat\n",
    "end\n"
   ]
  },
  {
   "cell_type": "markdown",
   "metadata": {},
   "source": [
    "This function finds the index of minimum value for each column of a giving matrix. "
   ]
  },
  {
   "cell_type": "code",
   "execution_count": 105,
   "metadata": {},
   "outputs": [
    {
     "data": {
      "text/plain": [
       "minindc (generic function with 1 method)"
      ]
     },
     "execution_count": 105,
     "metadata": {},
     "output_type": "execute_result"
    }
   ],
   "source": [
    "function minindc(x)\n",
    "\n",
    "nrows=size(x,1)\n",
    "ncols=size(x,2)\n",
    "\n",
    "# Preallocate memory for output array\n",
    "pos=zeros(ncols,1)\n",
    "\n",
    "# Create column vector 1:nrows\n",
    "seq=(1:nrows)'\n",
    "\n",
    "# Find the index of the minimum value of each column in x\n",
    "for i=1:ncols\n",
    "    \n",
    "    # Minimum value of column i\n",
    "    min_i=minimum(x[:,i])\n",
    "    \n",
    "    # Column vector containing the row number corresponding to the minimum()\n",
    "    # value of x[:,i] in that row & zeros elsewhere\n",
    "    colmin_i= seq*((x[:,i].-min_i).==0)\n",
    "    #println(colmin_i)\n",
    "    # Produce an error if the minimum value occurs more than once\n",
    "    if sum(colmin_i.>0)>1\n",
    "        println(\"Minimum value occurs more than once.\")\n",
    "    end\n",
    "    \n",
    "    # Obtain the index of the minimum value by taking the sum of column\n",
    "    # vector \"colmin_i\"\n",
    "    pos[i]=sum(colmin_i)\n",
    "    \n",
    "end\n",
    "\n",
    "pos = convert(Array{Int64}, pos)\n",
    "end"
   ]
  },
  {
   "cell_type": "markdown",
   "metadata": {},
   "source": [
    "I apply the PCp2  criterion developed in Bai and Ng (2002) so this function determines the number of factors to be selected for a given dataset using the second information criteria. "
   ]
  },
  {
   "cell_type": "code",
   "execution_count": 106,
   "metadata": {},
   "outputs": [
    {
     "data": {
      "text/plain": [
       "Baing (generic function with 1 method)"
      ]
     },
     "execution_count": 106,
     "metadata": {},
     "output_type": "execute_result"
    }
   ],
   "source": [
    "function Baing(Z, r)\n",
    "    out = extract_and_fill(Z, r);\n",
    "    N = length(Z)\n",
    "    T = length(Z[1])\n",
    "    V = 0.0    \n",
    "    σ2 = 0.0\n",
    "\n",
    "    for t in 1:T     \n",
    "        v= out[2][t,:] .- out[4]*out[3][t,:]\n",
    "        V += v'v        \n",
    "        σ2 += sum(v.^2)\n",
    "    end\n",
    "    penalty = (N+T)/(N*T)*log(min(N,T))\n",
    "    σ2 = σ2/(N*T)\n",
    "    return(log(V/(N*T)) + r*penalty)\n",
    "end\n"
   ]
  },
  {
   "cell_type": "markdown",
   "metadata": {},
   "source": [
    "In this step, I determine the max number of factors to be selected and then calculate the in following steps the best factor will be selected based on minimum value."
   ]
  },
  {
   "cell_type": "code",
   "execution_count": 107,
   "metadata": {},
   "outputs": [
    {
     "data": {
      "text/plain": [
       "20×1 Array{Float64,2}:\n",
       " -0.1153857166916281\n",
       " -0.1586113596841667\n",
       " -0.2061038016572318\n",
       " -0.24213369160686976\n",
       " -0.2647721021842269\n",
       " -0.2851182319478738\n",
       " -0.2958179423829575\n",
       " -0.2974434872027376\n",
       " -0.29502135577685434\n",
       " -0.29450764639555205\n",
       " -0.2912660307478345\n",
       " -0.2850960986160638\n",
       " -0.27804220789511247\n",
       " -0.2726907064146933\n",
       " -0.2667924008019693\n",
       " -0.2595338601448248\n",
       " -0.25363591700535826\n",
       " -0.24693253815771776\n",
       " -0.24107799301965227\n",
       " -0.23517560169141216"
      ]
     },
     "execution_count": 107,
     "metadata": {},
     "output_type": "execute_result"
    }
   ],
   "source": [
    "r=20\n",
    " baing=zeros(r,1)\n",
    "for i in 1:r\n",
    "   baing[i]=Baing(Z, i)\n",
    "end\n",
    "baing"
   ]
  },
  {
   "cell_type": "code",
   "execution_count": 108,
   "metadata": {},
   "outputs": [
    {
     "data": {
      "text/plain": [
       "1×1 Array{Int64,2}:\n",
       " 8"
      ]
     },
     "execution_count": 108,
     "metadata": {},
     "output_type": "execute_result"
    }
   ],
   "source": [
    "minindc(baing) #the output of this function shows the optimum number of factors"
   ]
  },
  {
   "cell_type": "markdown",
   "metadata": {},
   "source": [
    "The criterion finds 8 factors in this sample, as in McCracken and Ng (2016). "
   ]
  },
  {
   "cell_type": "markdown",
   "metadata": {},
   "source": [
    "The model is: \\begin{equation} \\label{var}\n",
    "\\boldsymbol{X}_t=\\boldsymbol{\\lambda}(L)\\boldsymbol{f}_{t}+ \\boldsymbol{e}_t \n",
    "\\end{equation}\n",
    "\\begin{equation} \\label{var1}\n",
    "\\boldsymbol{f}_t=\\boldsymbol{\\psi}(L)\\boldsymbol{f}_{t-1}+ \\boldsymbol{\\eta}_t\n",
    "\\end{equation}"
   ]
  },
  {
   "cell_type": "code",
   "execution_count": 109,
   "metadata": {},
   "outputs": [],
   "source": [
    "Z8, X8, fhat8, lambdahat8 = extract_and_fill(Z, 8);"
   ]
  },
  {
   "cell_type": "markdown",
   "metadata": {},
   "source": [
    "In following steps, I calculated the R_squared of the different regressions and report them in the following table. Moreover, we also report the marginal R_squared of factors; which represents the variability of the joint series the factor is able to explain. This incremental explanatory power of factor k is mR$^2_i$(k)= R$^2_i$(k)-R$^2_i$(k-1), k=2...r with mR$^2_i$(1)=R$^2_i$. The average importance of factor-k is mean of marginal R_squared for factor-k. I went through this procedure since the purpose is to define ten top series whose variability is mostly explained by each of 8 factors."
   ]
  },
  {
   "cell_type": "code",
   "execution_count": 110,
   "metadata": {
    "scrolled": false
   },
   "outputs": [
    {
     "data": {
      "text/plain": [
       "(Any[0.1051758357453706, 0.019418655218245175, 0.013595746935574773, 0.019812829849370696, 0.01855007703613584, 0.0014853547978769623, 0.0040493485090491305, 0.029326293351024026, 0.17313566651914988, 0.033617108937025325  …  0.004940284042299794, 0.008834490779945121, 0.21523860313103468, 0.018727263978477827, 0.0014227750026383655, 0.011858374964510109, 0.0025264047527887063, 0.003069653452451971, 0.17519506055747633, 0.000987368420691075], Any[0.14630503791217486, 0.0719325115104497, 0.06876201333063982, 0.05509893778299316, 0.042995736901292776, 0.03869338073772955, 0.031016936818367317, 0.024788469152327314])"
      ]
     },
     "execution_count": 110,
     "metadata": {},
     "output_type": "execute_result"
    }
   ],
   "source": [
    "function r_squared(lambdahat,fhat,X)\n",
    "\n",
    "N, r= size(lambdahat)\n",
    "\n",
    "    R2 =[] #matrix of all r-squared of the model x_j=b*f_i\n",
    "    R3 = [] #matrix of r-squared of the models x_j=b_1*f_1+...+b_i*f_i\n",
    "    mR2 = [] #matrix of incremental r-squared of the factors\n",
    "    mRmean = [] #mean of the marginal explanatory power of each factor (8 elements)\n",
    "    mR=[]\n",
    "\n",
    "    for j in 1:N, i in 1:r #we derive the matrix of r_squared of the model x_j=b*f_i\n",
    "    ols=fhat[:,i]\\X[:,j]\n",
    "        R=sum((fhat[:,i]*ols.-mean(X[:,j])).^2)./sum((X[:,j].-mean(X[:,j])).^2)\n",
    "    push!(R2,R)\n",
    "    end\n",
    "    \n",
    "    for j in 1:N, i in 1:r #in this loop we derive the matrix of r-squared of the models x_j=b_1*f_1+...+b_i*f_i\n",
    "        ols= fhat[:,1:i]\\X[:,j]\n",
    "        R=sum((fhat[:,1:i]*ols.-mean(X[:,j])).^2)./sum((X[:,j].-mean(X[:,j])).^2)\n",
    "        push!(R3,R)\n",
    "    end\n",
    "    R4=reshape(R3,r,N)\n",
    "     \n",
    "    for j in 1:N, i in 1:r-1 #in this loop we derive the marginal increase \n",
    "        mR=R4[i+1,j]-R4[i,j]\n",
    "        push!(mR2,mR)\n",
    "    end\n",
    "    mR2=reshape(mR2, r-1,N)\n",
    "    mRfinal=vcat(R4[1,:]',mR2) #we add the first marginal r_squared which is the standard r_squared\n",
    "   \n",
    "    for i in 1:8 #we finally calculate the mean\n",
    "    mR=mean(mRfinal[i,1:end])\n",
    "    push!(mRmean,mR)\n",
    "    end\n",
    "    return R2, mRmean\n",
    "end\n",
    "\n",
    "R28, mRmean8=r_squared(lambdahat8,fhat8,X8)"
   ]
  },
  {
   "cell_type": "code",
   "execution_count": 111,
   "metadata": {
    "scrolled": true
   },
   "outputs": [
    {
     "data": {
      "text/plain": [
       "10×16 Array{Any,2}:\n",
       " 0.715493  \"IPMANSICS\"  0.743482  …  0.412762   \"TWEXAFEGSMTHx\"\n",
       " 0.701591  \"PAYEMS\"     0.730176     0.267488   \"EXSZUSx\"\n",
       " 0.684055  \"INDPRO\"     0.710746     0.247002   \"EXUSUKx\"\n",
       " 0.664778  \"USGOOD\"     0.682174     0.169539   \"EXJPUSx\"\n",
       " 0.6315    \"IPFPNSS\"    0.655081     0.14391    \"CES0600000008\"\n",
       " 0.620097  \"CUMFNS\"     0.638294  …  0.129988   \"CES3000000008\"\n",
       " 0.606266  \"MANEMP\"     0.626212     0.121023   \"CONSPI\"\n",
       " 0.564089  \"DMANEMP\"    0.581694     0.118965   \"NONREVSL\"\n",
       " 0.54578   \"IPDMAT\"     0.500361     0.0879441  \"DTCTHFNM\"\n",
       " 0.539822  \"IPFINAL\"    0.479744     0.0783595  \"IPNCONGD\""
      ]
     },
     "execution_count": 111,
     "metadata": {},
     "output_type": "execute_result"
    }
   ],
   "source": [
    "function top_ten(R2, N, r)\n",
    "    \n",
    "R2=reshape(R2,r,N)\n",
    "R2=transpose(R2)\n",
    "name=names(fredmd)[2:end] #adding names\n",
    "U=hcat(name,R2)\n",
    "    \n",
    "A=[] #adding names in the values to create a tuple(value, name)\n",
    "for i in 1:N, j in 2:r+1\n",
    "    Ai=[U[i,j], U[i,:1]]\n",
    "    push!(A,Ai)\n",
    "end\n",
    "B=reshape(A,r,N)\n",
    "\n",
    "B=sort!(B,dims=2, rev=true) #sorting\n",
    "\n",
    "top10=[] #taking top10 factors by r_squared\n",
    "for i in 1:r\n",
    "factori=B[i,1:10]\n",
    "    push!(top10,factori)\n",
    "end\n",
    "top10=hcat(top10...)\n",
    "\n",
    "top=[] #getting back to a standard table, easier to handle with\n",
    "for i in 1:r, k in 1:2, j in 1:10\n",
    "    t=top10[j,i][k]\n",
    "    push!(top,t)\n",
    "end\n",
    "top=reshape(top,10,2*r)\n",
    "    return top\n",
    "    \n",
    "end\n",
    "\n",
    "top8=top_ten(R28,128,8)"
   ]
  },
  {
   "cell_type": "code",
   "execution_count": 112,
   "metadata": {},
   "outputs": [
    {
     "data": {
      "text/plain": [
       "8-element Array{Any,1}:\n",
       " 0.14630503791217486\n",
       " 0.0719325115104497\n",
       " 0.06876201333063982\n",
       " 0.05509893778299316\n",
       " 0.042995736901292776\n",
       " 0.03869338073772955\n",
       " 0.031016936818367317\n",
       " 0.024788469152327314"
      ]
     },
     "execution_count": 112,
     "metadata": {},
     "output_type": "execute_result"
    }
   ],
   "source": [
    "mRmean8"
   ]
  },
  {
   "cell_type": "code",
   "execution_count": 113,
   "metadata": {
    "scrolled": false
   },
   "outputs": [
    {
     "name": "stdout",
     "output_type": "stream",
     "text": [
      "┌\u001b[0m────────────────────\u001b[0m┬\u001b[0m───────────\u001b[0m┬\u001b[0m────────────────────\u001b[0m┬\u001b[0m─────────────────\u001b[0m┐\u001b[0m\n",
      "│\u001b[0m\u001b[1m           Factor 1 \u001b[0m│\u001b[0m\u001b[1m  Variable \u001b[0m│\u001b[0m\u001b[1m           Factor 2 \u001b[0m│\u001b[0m\u001b[1m        Variable \u001b[0m│\u001b[0m\n",
      "│\u001b[0m\u001b[90m       mR^2=0.14631 \u001b[0m│\u001b[0m\u001b[90m           \u001b[0m│\u001b[0m\u001b[90m       mR^2=0.07193 \u001b[0m│\u001b[0m\u001b[90m                 \u001b[0m│\u001b[0m\n",
      "├\u001b[0m────────────────────\u001b[0m┼\u001b[0m───────────\u001b[0m┼\u001b[0m────────────────────\u001b[0m┼\u001b[0m─────────────────\u001b[0m┤\u001b[0m\n",
      "│\u001b[0m 0.7154928511533396 \u001b[0m│\u001b[0m IPMANSICS \u001b[0m│\u001b[0m 0.7434815002390499 \u001b[0m│\u001b[0m     CUSR0000SAC \u001b[0m│\u001b[0m\n",
      "│\u001b[0m 0.7015913634224793 \u001b[0m│\u001b[0m    PAYEMS \u001b[0m│\u001b[0m 0.7301759557986232 \u001b[0m│\u001b[0m DNDGRG3M086SBEA \u001b[0m│\u001b[0m\n",
      "│\u001b[0m 0.6840546585111387 \u001b[0m│\u001b[0m    INDPRO \u001b[0m│\u001b[0m 0.7107459949592869 \u001b[0m│\u001b[0m   CUSR0000SA0L2 \u001b[0m│\u001b[0m\n",
      "│\u001b[0m 0.6647782015364798 \u001b[0m│\u001b[0m    USGOOD \u001b[0m│\u001b[0m 0.6821741967191135 \u001b[0m│\u001b[0m        CPIAUCSL \u001b[0m│\u001b[0m\n",
      "│\u001b[0m 0.6314995340028186 \u001b[0m│\u001b[0m   IPFPNSS \u001b[0m│\u001b[0m 0.6550806685270908 \u001b[0m│\u001b[0m   CUSR0000SA0L5 \u001b[0m│\u001b[0m\n",
      "│\u001b[0m 0.6200973834604547 \u001b[0m│\u001b[0m    CUMFNS \u001b[0m│\u001b[0m 0.6382936158782815 \u001b[0m│\u001b[0m        CPITRNSL \u001b[0m│\u001b[0m\n",
      "│\u001b[0m 0.6062664893721316 \u001b[0m│\u001b[0m    MANEMP \u001b[0m│\u001b[0m 0.6262121035798989 \u001b[0m│\u001b[0m           PCEPI \u001b[0m│\u001b[0m\n",
      "│\u001b[0m 0.5640886919127375 \u001b[0m│\u001b[0m   DMANEMP \u001b[0m│\u001b[0m 0.5816937596267789 \u001b[0m│\u001b[0m        CPIULFSL \u001b[0m│\u001b[0m\n",
      "│\u001b[0m 0.5457800963311819 \u001b[0m│\u001b[0m    IPDMAT \u001b[0m│\u001b[0m 0.5003607041440007 \u001b[0m│\u001b[0m      WPSFD49502 \u001b[0m│\u001b[0m\n",
      "│\u001b[0m 0.5398218413669652 \u001b[0m│\u001b[0m   IPFINAL \u001b[0m│\u001b[0m 0.4797438537118043 \u001b[0m│\u001b[0m         WPSID61 \u001b[0m│\u001b[0m\n",
      "└\u001b[0m────────────────────\u001b[0m┴\u001b[0m───────────\u001b[0m┴\u001b[0m────────────────────\u001b[0m┴\u001b[0m─────────────────\u001b[0m┘\u001b[0m\n",
      "┌\u001b[0m─────────────────────\u001b[0m┬\u001b[0m──────────\u001b[0m┬\u001b[0m─────────────────────\u001b[0m┬\u001b[0m───────────────\u001b[0m┐\u001b[0m\n",
      "│\u001b[0m\u001b[1m            Factor 3 \u001b[0m│\u001b[0m\u001b[1m Variable \u001b[0m│\u001b[0m\u001b[1m            Factor 4 \u001b[0m│\u001b[0m\u001b[1m      Variable \u001b[0m│\u001b[0m\n",
      "│\u001b[0m\u001b[90m       mR^2= 0.06876 \u001b[0m│\u001b[0m\u001b[90m          \u001b[0m│\u001b[0m\u001b[90m       mR^2= 0.05509 \u001b[0m│\u001b[0m\u001b[90m               \u001b[0m│\u001b[0m\n",
      "├\u001b[0m─────────────────────\u001b[0m┼\u001b[0m──────────\u001b[0m┼\u001b[0m─────────────────────\u001b[0m┼\u001b[0m───────────────\u001b[0m┤\u001b[0m\n",
      "│\u001b[0m  0.5882591677695529 \u001b[0m│\u001b[0m   AAAFFM \u001b[0m│\u001b[0m  0.5390627113333875 \u001b[0m│\u001b[0m           GS1 \u001b[0m│\u001b[0m\n",
      "│\u001b[0m  0.5763711439531936 \u001b[0m│\u001b[0m  T10YFFM \u001b[0m│\u001b[0m  0.5140257555186387 \u001b[0m│\u001b[0m           GS5 \u001b[0m│\u001b[0m\n",
      "│\u001b[0m  0.5639617286465113 \u001b[0m│\u001b[0m   BAAFFM \u001b[0m│\u001b[0m  0.5092462663612143 \u001b[0m│\u001b[0m         TB6MS \u001b[0m│\u001b[0m\n",
      "│\u001b[0m  0.5117226506812979 \u001b[0m│\u001b[0m   T5YFFM \u001b[0m│\u001b[0m  0.4981412079752975 \u001b[0m│\u001b[0m           AAA \u001b[0m│\u001b[0m\n",
      "│\u001b[0m  0.4332090528523205 \u001b[0m│\u001b[0m TB3SMFFM \u001b[0m│\u001b[0m  0.4659925920568374 \u001b[0m│\u001b[0m          GS10 \u001b[0m│\u001b[0m\n",
      "│\u001b[0m 0.42937639309490516 \u001b[0m│\u001b[0m TB6SMFFM \u001b[0m│\u001b[0m 0.46007708232799555 \u001b[0m│\u001b[0m         CP3Mx \u001b[0m│\u001b[0m\n",
      "│\u001b[0m  0.3663120359040121 \u001b[0m│\u001b[0m   T1YFFM \u001b[0m│\u001b[0m  0.4483791138157921 \u001b[0m│\u001b[0m         TB3MS \u001b[0m│\u001b[0m\n",
      "│\u001b[0m 0.28402179052115056 \u001b[0m│\u001b[0m    HOUST \u001b[0m│\u001b[0m  0.4454739848791081 \u001b[0m│\u001b[0m           BAA \u001b[0m│\u001b[0m\n",
      "│\u001b[0m 0.22598765802109574 \u001b[0m│\u001b[0m   HOUSTW \u001b[0m│\u001b[0m  0.2675132486385146 \u001b[0m│\u001b[0m      FEDFUNDS \u001b[0m│\u001b[0m\n",
      "│\u001b[0m  0.2218600291725714 \u001b[0m│\u001b[0m   HOUSTS \u001b[0m│\u001b[0m  0.1910690204150554 \u001b[0m│\u001b[0m TWEXAFEGSMTHx \u001b[0m│\u001b[0m\n",
      "└\u001b[0m─────────────────────\u001b[0m┴\u001b[0m──────────\u001b[0m┴\u001b[0m─────────────────────\u001b[0m┴\u001b[0m───────────────\u001b[0m┘\u001b[0m\n",
      "┌\u001b[0m─────────────────────\u001b[0m┬\u001b[0m───────────\u001b[0m┬\u001b[0m─────────────────────\u001b[0m┬\u001b[0m───────────────\u001b[0m┐\u001b[0m\n",
      "│\u001b[0m\u001b[1m            Factor 5 \u001b[0m│\u001b[0m\u001b[1m  Variable \u001b[0m│\u001b[0m\u001b[1m            Factor 6 \u001b[0m│\u001b[0m\u001b[1m      Variable \u001b[0m│\u001b[0m\n",
      "│\u001b[0m\u001b[90m       mR^2= 0.04299 \u001b[0m│\u001b[0m\u001b[90m           \u001b[0m│\u001b[0m\u001b[90m        mR^2=0.03869 \u001b[0m│\u001b[0m\u001b[90m               \u001b[0m│\u001b[0m\n",
      "├\u001b[0m─────────────────────\u001b[0m┼\u001b[0m───────────\u001b[0m┼\u001b[0m─────────────────────\u001b[0m┼\u001b[0m───────────────\u001b[0m┤\u001b[0m\n",
      "│\u001b[0m 0.37376680287426545 \u001b[0m│\u001b[0m    T1YFFM \u001b[0m│\u001b[0m   0.258538536750672 \u001b[0m│\u001b[0m  S&P PE ratio \u001b[0m│\u001b[0m\n",
      "│\u001b[0m  0.3636129575231329 \u001b[0m│\u001b[0m  TB6SMFFM \u001b[0m│\u001b[0m  0.2072793685266404 \u001b[0m│\u001b[0m CES0600000007 \u001b[0m│\u001b[0m\n",
      "│\u001b[0m 0.31992555567969455 \u001b[0m│\u001b[0m  TB3SMFFM \u001b[0m│\u001b[0m 0.19582091503636623 \u001b[0m│\u001b[0m        AWHMAN \u001b[0m│\u001b[0m\n",
      "│\u001b[0m 0.30759207365406127 \u001b[0m│\u001b[0m    T5YFFM \u001b[0m│\u001b[0m 0.16777184584881394 \u001b[0m│\u001b[0m       S&P 500 \u001b[0m│\u001b[0m\n",
      "│\u001b[0m  0.2585962987894326 \u001b[0m│\u001b[0m   T10YFFM \u001b[0m│\u001b[0m 0.16664073076484248 \u001b[0m│\u001b[0m   S&P: indust \u001b[0m│\u001b[0m\n",
      "│\u001b[0m 0.24238646892150406 \u001b[0m│\u001b[0m COMPAPFFx \u001b[0m│\u001b[0m 0.16663191063997426 \u001b[0m│\u001b[0m          M2SL \u001b[0m│\u001b[0m\n",
      "│\u001b[0m  0.2215800988761256 \u001b[0m│\u001b[0m    AAAFFM \u001b[0m│\u001b[0m 0.15654404126495647 \u001b[0m│\u001b[0m        MANEMP \u001b[0m│\u001b[0m\n",
      "│\u001b[0m  0.1741832869639302 \u001b[0m│\u001b[0m    BAAFFM \u001b[0m│\u001b[0m  0.1564855194715922 \u001b[0m│\u001b[0m S&P div yield \u001b[0m│\u001b[0m\n",
      "│\u001b[0m 0.17151375743271663 \u001b[0m│\u001b[0m    PERMIT \u001b[0m│\u001b[0m 0.15294239089815542 \u001b[0m│\u001b[0m         MZMSL \u001b[0m│\u001b[0m\n",
      "│\u001b[0m 0.15441839688216066 \u001b[0m│\u001b[0m   PERMITW \u001b[0m│\u001b[0m  0.1396970890053704 \u001b[0m│\u001b[0m        USGOOD \u001b[0m│\u001b[0m\n",
      "└\u001b[0m─────────────────────\u001b[0m┴\u001b[0m───────────\u001b[0m┴\u001b[0m─────────────────────\u001b[0m┴\u001b[0m───────────────\u001b[0m┘\u001b[0m\n",
      "┌\u001b[0m─────────────────────\u001b[0m┬\u001b[0m───────────────\u001b[0m┬\u001b[0m─────────────────────\u001b[0m┬\u001b[0m───────────────\u001b[0m┐\u001b[0m\n",
      "│\u001b[0m\u001b[1m            Factor 7 \u001b[0m│\u001b[0m\u001b[1m      Variable \u001b[0m│\u001b[0m\u001b[1m            Factor 8 \u001b[0m│\u001b[0m\u001b[1m      Variable \u001b[0m│\u001b[0m\n",
      "│\u001b[0m\u001b[90m       mR^2= 0.03102 \u001b[0m│\u001b[0m\u001b[90m               \u001b[0m│\u001b[0m\u001b[90m        mR^2=0.02479 \u001b[0m│\u001b[0m\u001b[90m               \u001b[0m│\u001b[0m\n",
      "├\u001b[0m─────────────────────\u001b[0m┼\u001b[0m───────────────\u001b[0m┼\u001b[0m─────────────────────\u001b[0m┼\u001b[0m───────────────\u001b[0m┤\u001b[0m\n",
      "│\u001b[0m 0.22852383081674127 \u001b[0m│\u001b[0m       S&P 500 \u001b[0m│\u001b[0m  0.4127616149661574 \u001b[0m│\u001b[0m TWEXAFEGSMTHx \u001b[0m│\u001b[0m\n",
      "│\u001b[0m 0.22819370861966032 \u001b[0m│\u001b[0m   S&P: indust \u001b[0m│\u001b[0m 0.26748758448830723 \u001b[0m│\u001b[0m       EXSZUSx \u001b[0m│\u001b[0m\n",
      "│\u001b[0m 0.21851788712377654 \u001b[0m│\u001b[0m       IPCONGD \u001b[0m│\u001b[0m  0.2470024977016176 \u001b[0m│\u001b[0m       EXUSUKx \u001b[0m│\u001b[0m\n",
      "│\u001b[0m 0.17519506055747633 \u001b[0m│\u001b[0m       VXOCLSx \u001b[0m│\u001b[0m 0.16953905532776647 \u001b[0m│\u001b[0m       EXJPUSx \u001b[0m│\u001b[0m\n",
      "│\u001b[0m 0.15146861069210882 \u001b[0m│\u001b[0m       IPFINAL \u001b[0m│\u001b[0m  0.1439101377818516 \u001b[0m│\u001b[0m CES0600000008 \u001b[0m│\u001b[0m\n",
      "│\u001b[0m 0.14760568546903458 \u001b[0m│\u001b[0m      IPNCONGD \u001b[0m│\u001b[0m  0.1299881140803457 \u001b[0m│\u001b[0m CES3000000008 \u001b[0m│\u001b[0m\n",
      "│\u001b[0m 0.14192061150640772 \u001b[0m│\u001b[0m S&P div yield \u001b[0m│\u001b[0m 0.12102345199005492 \u001b[0m│\u001b[0m        CONSPI \u001b[0m│\u001b[0m\n",
      "│\u001b[0m  0.1386044151639078 \u001b[0m│\u001b[0m CES0600000007 \u001b[0m│\u001b[0m 0.11896482946017757 \u001b[0m│\u001b[0m      NONREVSL \u001b[0m│\u001b[0m\n",
      "│\u001b[0m  0.1337770367256606 \u001b[0m│\u001b[0m        AWHMAN \u001b[0m│\u001b[0m 0.08794413996840142 \u001b[0m│\u001b[0m      DTCTHFNM \u001b[0m│\u001b[0m\n",
      "│\u001b[0m 0.11954547048716528 \u001b[0m│\u001b[0m      UMCSENTx \u001b[0m│\u001b[0m 0.07835945611193976 \u001b[0m│\u001b[0m      IPNCONGD \u001b[0m│\u001b[0m\n",
      "└\u001b[0m─────────────────────\u001b[0m┴\u001b[0m───────────────\u001b[0m┴\u001b[0m─────────────────────\u001b[0m┴\u001b[0m───────────────\u001b[0m┘\u001b[0m\n"
     ]
    }
   ],
   "source": [
    "@pt :header=[\"Factor 1\" \"Variable\" \"Factor 2\" \"Variable\"; \"mR^2=0.14631\" \"\" \"mR^2=0.07193\" \"\"] top8[1:10,1:4] :header=[\"Factor 3\" \"Variable\" \"Factor 4\" \"Variable\"; \"mR^2= 0.06876\" \"\" \"mR^2= 0.05509\" \"\"] top8[1:end,5:8] :header=[\"Factor 5\" \"Variable\" \"Factor 6\" \"Variable\"; \"mR^2= 0.04299\" \"\" \"mR^2=0.03869\" \"\"] top8[1:10,9:12] :header=[\"Factor 7\" \"Variable\" \"Factor 8\" \"Variable\"; \"mR^2= 0.03102\" \"\" \"mR^2=0.02479\" \"\"] top8[1:10,13:16];"
   ]
  },
  {
   "cell_type": "markdown",
   "metadata": {},
   "source": [
    "This table lists R$^2_{j}$ and the ten series with the highest mR$^2_{j}$ for factor j. Factor 1 explains 0.14631 of the variation in the data and can be interpreted as a real activity/employment factor since the mR$_i$ associated with the industrial production and employment series are around 0.7. Factor 2 has an mR$^2$(2) of 0.07193 and its explanatory power is concentrated on price variables and thus can be interpreted as an inflation factor.Factor 3 contributes to 0.06876 of the variation in the data and is dominated by forward-looking variables like interest rate spreads. Factor 4 can be interpreted as an interest rate factor and Factor 5 is a mix of housing and interest rate variables. Like factor 1, factor 6 concentrates on real variables. Factor 7 has explanatory power for stock market variables while factor 8 has explanatory power for exchange rates."
   ]
  },
  {
   "cell_type": "markdown",
   "metadata": {},
   "source": [
    "In this step, in order to choose the numbers of lags of both factors and INDPRO in our model, we construct a function computing the BIC. We considered up to 3 lags of the first factor and up to 6 lags of INDPRO using a sample from 01/06/1960 to 01/03/2020. It appears that the best model is the one with 3 lags of the factor and 3 lags of IP."
   ]
  },
  {
   "cell_type": "code",
   "execution_count": 114,
   "metadata": {},
   "outputs": [],
   "source": [
    "y_bic=[lead(fredmd[:,:INDPRO])...][6:end-1]\n",
    "X_bic=[fhat8[:,:1] lag(fhat8[:,:1]) lag(lag(fhat8[:,:1])) lag(lag(lag(fhat8[:,:1])))][6:end-1,:]\n",
    "Z_bic=[fredmd[:,:INDPRO] lag(fredmd[:,:INDPRO]) lag(lag(fredmd[:,:INDPRO])) lag(lag(lag(fredmd[:,:INDPRO]))) lag(lag(lag(lag(fredmd[:,:INDPRO])))) lag(lag(lag(lag(lag(fredmd[:,:INDPRO])))))][6:end-1,:];"
   ]
  },
  {
   "cell_type": "code",
   "execution_count": 115,
   "metadata": {},
   "outputs": [
    {
     "data": {
      "text/plain": [
       "best_model (generic function with 1 method)"
      ]
     },
     "execution_count": 115,
     "metadata": {},
     "output_type": "execute_result"
    }
   ],
   "source": [
    "## This function chooses the best model according to the BIC criterion\n",
    "function best_model(y,X,Z)\n",
    "    bic=[]\n",
    "    T=size(X,1)\n",
    "     y = convert(Vector{Float64}, y)\n",
    "        X = convert(Matrix{Float64},X)\n",
    "Z=convert(Matrix{Float64},Z)\n",
    "    for i in 1:6, j in 1:4\n",
    "        R=hcat(X[:,1:j], Z[:,1:i])\n",
    "        ols=lm(R,y)\n",
    "        rss=GLM.deviance(ols)\n",
    "            bici=T*log(rss/T)+((j+i)*log(T))\n",
    "            push!(bic,bici)\n",
    "    end\n",
    "    return bic\n",
    "end"
   ]
  },
  {
   "cell_type": "code",
   "execution_count": 116,
   "metadata": {},
   "outputs": [],
   "source": [
    "best_model(y_bic,X_bic,Z_bic);"
   ]
  },
  {
   "cell_type": "markdown",
   "metadata": {},
   "source": [
    " As next step,our goal is to forecast industrial production in the following six months. This can be done by running a regression of the lead of industrial production -INDPRO- on INDPRO itself and lagged values of it, as well as on the first factor and lagged values of it. Once INDPRO is leaded,  we have a missing value at the bottom of the vector, and so we can only regress on X$_{t-1}$; once coefficients estimates are obtained, we can compute the first step-ahead forecast of indpro as the product of the coefficients and X$_t$. In order to obtain the second-step ahead forecast, it is sufficient to insert the previous estimate of the lead of INDPRO in the original vector, and so recursively carrying out the procedure. The function below takes as arguments the regressors (XX), the regressand (y) and the number of step-ahead forecasts to be performed (s). The output will be the $\\textit{s}$ steps-ahead forecasts."
   ]
  },
  {
   "cell_type": "code",
   "execution_count": 117,
   "metadata": {},
   "outputs": [],
   "source": [
    "XX = [fredmd[!,:INDPRO] lag(fredmd[!,:INDPRO]) lag(lag(fredmd[!,:INDPRO])) lag(lag(lag(fredmd[!,:INDPRO]))) fhat8[:,:1] lag(fhat8[:,:1]) lag(lag(fhat8[:,:1])) lag(lag(lag(fhat8[:,:1])))]\n",
    "y= fredmd[!,:INDPRO];"
   ]
  },
  {
   "cell_type": "code",
   "execution_count": 118,
   "metadata": {},
   "outputs": [
    {
     "data": {
      "text/plain": [
       "prediction (generic function with 1 method)"
      ]
     },
     "execution_count": 118,
     "metadata": {},
     "output_type": "execute_result"
    }
   ],
   "source": [
    "function prediction(XX, y, s)\n",
    "    XX_T=XX[end,:]\n",
    "    XX=XX[4:end-1,:]\n",
    "    yy=deepcopy(y)\n",
    "    pred=[]\n",
    "    for j in 1:s\n",
    "        z=lead(yy)[3+j:end-1]\n",
    "        z = convert(Vector{Float64}, z)\n",
    "        XX = convert(Matrix{Float64},XX)\n",
    "        coef=XX\\z\n",
    "        p=XX_T'*coef\n",
    "    push!(pred,p)\n",
    "        push!(yy,p)\n",
    "    end\n",
    "    return pred\n",
    "end"
   ]
  },
  {
   "cell_type": "markdown",
   "metadata": {},
   "source": [
    "Now I predict the first up to the sixth step-ahead forecasts of INDPRO. According to our initial transformation, the the values can be interpreted as annalized growth rate, once they are multiplied by 1200. As it can be seen, for instance, the first step-ahead shows that industrial production will decrease on annual basis of 27%, if we assume that the forecast of the monthly growth rate will be kept constant in the twelve months ahead."
   ]
  },
  {
   "cell_type": "code",
   "execution_count": 119,
   "metadata": {},
   "outputs": [
    {
     "data": {
      "text/plain": [
       "6-element Array{Float64,1}:\n",
       " -27.21589992940161\n",
       " -30.473622716086357\n",
       " -21.592768968028214\n",
       " -18.920990585142995\n",
       "  -9.371697198378142\n",
       " -16.178084089320066"
      ]
     },
     "execution_count": 119,
     "metadata": {},
     "output_type": "execute_result"
    }
   ],
   "source": [
    "prediction(XX, y, 6)*100*12"
   ]
  },
  {
   "cell_type": "markdown",
   "metadata": {},
   "source": [
    "Finally it is the time to compare our predictive power of our model with an AR(3). This is done by calculating the MSE derived from an out-of-sample analysis with data from 01/01/1961 to 12/01/2019."
   ]
  },
  {
   "cell_type": "code",
   "execution_count": 120,
   "metadata": {
    "scrolled": true
   },
   "outputs": [],
   "source": [
    "XX_sample=XX[13:end-5,:]; ##from 01/01/1961 to 12/01/2019##\n",
    "y_sample=y[13:end-5,:]; ##from 01/01/1961 to 12/01/2019##"
   ]
  },
  {
   "cell_type": "code",
   "execution_count": 121,
   "metadata": {},
   "outputs": [
    {
     "data": {
      "text/plain": [
       "out_of_sample (generic function with 1 method)"
      ]
     },
     "execution_count": 121,
     "metadata": {},
     "output_type": "execute_result"
    }
   ],
   "source": [
    "function out_of_sample(XX,y)\n",
    "   error=[]\n",
    "     for j in 1:140\n",
    "        XX1=XX[j:563+j,:]\n",
    "        XX1 = convert(Matrix{Float64},XX1)\n",
    "        Ly=lead(y)[j:563+j]\n",
    "        Ly = convert(Vector{Float64}, Ly)\n",
    "        XX_T=XX[564+j,:]\n",
    "        XX_T=convert(Vector{Float64},XX_T)\n",
    "        coef=XX1\\Ly\n",
    "        pred=XX_T'*coef\n",
    "        y_actual=y[564+j]\n",
    "        pred_err=(y_actual-pred)^2\n",
    "        push!(error, pred_err)\n",
    "        end \n",
    "    MSE=mean(sum(error))\n",
    "    return MSE\n",
    "end"
   ]
  },
  {
   "cell_type": "code",
   "execution_count": 122,
   "metadata": {},
   "outputs": [
    {
     "data": {
      "text/plain": [
       "0.005373720414960443"
      ]
     },
     "execution_count": 122,
     "metadata": {},
     "output_type": "execute_result"
    }
   ],
   "source": [
    "#MSE of the first step-ahead model with the first factor and three lags of the first factor, and three lags of INDPRO\n",
    "out_of_sample(XX_sample,y_sample)"
   ]
  },
  {
   "cell_type": "code",
   "execution_count": 123,
   "metadata": {},
   "outputs": [],
   "source": [
    "XX_sample;"
   ]
  },
  {
   "cell_type": "code",
   "execution_count": 124,
   "metadata": {},
   "outputs": [],
   "source": [
    "XX_AR = [fredmd[!,:INDPRO] lag(fredmd[!,:INDPRO]) lag(lag(fredmd[!,:INDPRO])) lag(lag(lag(fredmd[!,:INDPRO])))]\n",
    "y_AR= fredmd[!,:INDPRO];"
   ]
  },
  {
   "cell_type": "code",
   "execution_count": 125,
   "metadata": {
    "scrolled": false
   },
   "outputs": [],
   "source": [
    "XX_ARsample=XX_AR[13:end-5,:] ##from 01/01/1961 to 12/01/2019##\n",
    "y_ARsample=y_AR[13:end-5,:]; ##from 01/01/1961 to 12/01/2019##"
   ]
  },
  {
   "cell_type": "code",
   "execution_count": 126,
   "metadata": {},
   "outputs": [
    {
     "data": {
      "text/plain": [
       "0.0036388062341942587"
      ]
     },
     "execution_count": 126,
     "metadata": {},
     "output_type": "execute_result"
    }
   ],
   "source": [
    "#MSE of AR(3)\n",
    "out_of_sample(XX_ARsample,y_ARsample)"
   ]
  },
  {
   "cell_type": "markdown",
   "metadata": {},
   "source": [
    " Surprisingly, it turns out that the AR(3) is better at predicting INDPRO than our dynamic factor model. One of the explanation can be due that MSE is one creterion which is not completely reliable for evaluation of dominance of a model. Also we can not determine the preferred model just through the analyzing of one variable."
   ]
  },
  {
   "cell_type": "code",
   "execution_count": null,
   "metadata": {},
   "outputs": [],
   "source": []
  }
 ],
 "metadata": {
  "kernelspec": {
   "display_name": "Julia 1.4.2",
   "language": "julia",
   "name": "julia-1.4"
  },
  "language_info": {
   "file_extension": ".jl",
   "mimetype": "application/julia",
   "name": "julia",
   "version": "1.4.2"
  }
 },
 "nbformat": 4,
 "nbformat_minor": 4
}
